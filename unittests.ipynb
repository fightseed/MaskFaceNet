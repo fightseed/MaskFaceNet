{
 "cells": [
  {
   "cell_type": "code",
   "execution_count": 2,
   "metadata": {},
   "outputs": [],
   "source": [
    "from models import face_loader\n",
    "import torch"
   ]
  },
  {
   "cell_type": "code",
   "execution_count": 3,
   "metadata": {},
   "outputs": [
    {
     "name": "stdout",
     "output_type": "stream",
     "text": [
      "500\n",
      "48000 1000 1000\n",
      "{'n002167': 2, 'n000394': 2, 'n000148': 2, 'n004850': 2, 'n006574': 2}\n"
     ]
    }
   ],
   "source": [
    "def test_face_loader_no_mask():\n",
    "    loader = face_loader.load_data()\n",
    "    (train_dset, val_dset, test_dset), (train_loader, val_loader, test_loader) = loader\n",
    "    assert(train_dset.size == 48000)\n",
    "    assert(val_dset.size == 1000)\n",
    "    assert(test_dset.size == 1000)\n",
    "    n = 0\n",
    "    idens = {}\n",
    "    for img, label in train_dset:\n",
    "        #print(\"label:\", label)\n",
    "        #print(\"img.shape:\", img.shape)\n",
    "        assert(img.shape == torch.Size([3, 224, 224]))\n",
    "        if label not in idens:\n",
    "            idens[label] = 1\n",
    "        else:\n",
    "            idens[label] = idens[label] + 1\n",
    "\n",
    "        n += 1\n",
    "        if n >= 10:\n",
    "            break\n",
    "    assert(len(idens) == 5)\n",
    "    print(idens)\n",
    "    \n",
    "test_face_loader_no_mask()"
   ]
  },
  {
   "cell_type": "code",
   "execution_count": null,
   "metadata": {},
   "outputs": [],
   "source": [
    "def test_face_loader_with_mask():\n",
    "    loader = face_loader.load_data()\n",
    "    (train_dset, val_dset, test_dset), (train_loader, val_loader, test_loader) = loader\n",
    "    assert(train_dset.size == 48000)\n",
    "    assert(val_dset.size == 1000)\n",
    "    assert(test_dset.size == 1000)\n",
    "    n = 0\n",
    "    idens = {}\n",
    "    for img, label in train_dset:\n",
    "        print(\"label:\", label)\n",
    "        print(\"img.shape:\", img.shape)\n",
    "        assert(img.shape == torch.Size([3, 224, 224]))\n",
    "        iden, masked = label\n",
    "        if iden not in idens:\n",
    "            idens[iden] = {'masked': 0, 'clear': 0}\n",
    "        if masked:\n",
    "            idens[iden]['masked'] = idens[iden]['masked'] + 1\n",
    "        else:\n",
    "            idens[iden]['clear'] = idens[iden]['clear'] + 1\n",
    "            \n",
    "        n += 1\n",
    "        if n >= 20:\n",
    "            break\n",
    "    assert(len(idens) == 5)\n",
    "    for _k, item in idens.items():\n",
    "        assert(item['masked'] == 1)\n",
    "        assert(item['clear'] == 1)\n",
    "\n",
    "test_face_loader()"
   ]
  },
  {
   "cell_type": "code",
   "execution_count": null,
   "metadata": {},
   "outputs": [],
   "source": []
  }
 ],
 "metadata": {
  "kernelspec": {
   "display_name": "Python [conda env:pytorch_latest_p37]",
   "language": "python",
   "name": "conda-env-pytorch_latest_p37-py"
  },
  "language_info": {
   "codemirror_mode": {
    "name": "ipython",
    "version": 3
   },
   "file_extension": ".py",
   "mimetype": "text/x-python",
   "name": "python",
   "nbconvert_exporter": "python",
   "pygments_lexer": "ipython3",
   "version": "3.7.6"
  }
 },
 "nbformat": 4,
 "nbformat_minor": 4
}
