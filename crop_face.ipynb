{
 "cells": [
  {
   "cell_type": "code",
   "execution_count": null,
   "metadata": {},
   "outputs": [],
   "source": [
    "!pip install mtcnn\n",
    "!pip install pyplot"
   ]
  },
  {
   "cell_type": "code",
   "execution_count": null,
   "metadata": {},
   "outputs": [],
   "source": [
    "import matplotlib.pyplot as plt\n",
    "from PIL import Image\n",
    "import mtcnn\n",
    "# print version\n",
    "print(mtcnn.__version__)"
   ]
  },
  {
   "cell_type": "code",
   "execution_count": null,
   "metadata": {},
   "outputs": [],
   "source": [
    "from glob import glob\n",
    "data_path = \"./dataset/test_masked_cloth\"\n",
    "data_files = glob('{}/**/*.jpg'.format(data_path))\n",
    "#print(data_files)"
   ]
  },
  {
   "cell_type": "code",
   "execution_count": null,
   "metadata": {},
   "outputs": [],
   "source": [
    "import os\n",
    "\n",
    "# Set output path\n",
    "out_path = \"./dataset/test_masked_cloth_cropped\"\n",
    "\n",
    "# create the detector using default weights\n",
    "detector = mtcnn.MTCNN()\n",
    "\n",
    "for filename in data_files:\n",
    "    # load image from file\n",
    "    path_names = filename.split('/')\n",
    "    out_file = \"{}/{}/{}\".format(out_path, path_names[-2], path_names[-1])\n",
    "    pixels = plt.imread(filename)\n",
    "    \n",
    "    try:\n",
    "        # detec faces in the image\n",
    "        results = detector.detect_faces(pixels)\n",
    "    \n",
    "        # extract the bounding box from the first face\n",
    "        x1, y1, width, height = results[0]['box']\n",
    "        x2, y2 = x1 + width, y1 + height\n",
    "        # extend the bounding box by a factor of 0.3\n",
    "        ext_width = int(width * 0.3 / 2)\n",
    "        ext_height = int(height * 0.3 / 2)\n",
    "        x1 -= ext_width\n",
    "        y1 -= ext_height\n",
    "        x2 += ext_width\n",
    "        y2 += ext_height\n",
    "        #print(\"x1:\", x1, \"y1\", y1, \"x2:\", x2, \"y2\", y2)\n",
    "    \n",
    "        # extract the face\n",
    "        face = pixels[y1:y2, x1:x2]\n",
    "    \n",
    "        # resize pixels to the model size\n",
    "        image = Image.fromarray(face)\n",
    "        image = image.resize((224, 224))\n",
    "    except Exception as e:\n",
    "        print(\"Failed to crop face. File={} Err={}\".format(filename, str(e)))\n",
    "    \n",
    "    # write image to file\n",
    "    os.makedirs(os.path.dirname(out_file), exist_ok=True)\n",
    "    with open(out_file, \"w\") as f:\n",
    "        image.save(out_file)\n",
    "    #face_array = asarray(image)\n"
   ]
  },
  {
   "cell_type": "code",
   "execution_count": null,
   "metadata": {},
   "outputs": [],
   "source": []
  }
 ],
 "metadata": {
  "kernelspec": {
   "display_name": "Python 3",
   "language": "python",
   "name": "python3"
  },
  "language_info": {
   "codemirror_mode": {
    "name": "ipython",
    "version": 3
   },
   "file_extension": ".py",
   "mimetype": "text/x-python",
   "name": "python",
   "nbconvert_exporter": "python",
   "pygments_lexer": "ipython3",
   "version": "3.6.8"
  }
 },
 "nbformat": 4,
 "nbformat_minor": 4
}
